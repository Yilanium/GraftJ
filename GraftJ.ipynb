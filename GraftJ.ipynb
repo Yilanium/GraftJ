{
 "cells": [
  {
   "cell_type": "code",
   "execution_count": 1,
   "metadata": {},
   "outputs": [
    {
     "name": "stdout",
     "output_type": "stream",
     "text": [
      "Parsing Path:  originals/mouse_moon.txt\n",
      "Parsing Path:  originals/lama_moon_alignment.txt\n",
      "Parsing Path:  originals/rat_moon.txt\n",
      "Parsing Path:  originals/other_moon.txt\n",
      "Parsing Path:  originals/therapeutics.txt\n",
      "Parsing Path:  originals/human.txt\n"
     ]
    }
   ],
   "source": [
    "#GraftJ is a program to graft donor CDR regions onto acceptor frameworks for antibodies and nanobodies\n",
    "#Nominate your acceptor sequence by putting @ before < in the txt file\n",
    "#Put \"RANGES:\" followed by the amino acids for CDR regions e.g. \"12-30, 40-50, 65-80\"\n",
    "\n",
    "from libgraftj import run_on_directory\n",
    "data = run_on_directory(\"originals\", \"outputs\")"
   ]
  },
  {
   "cell_type": "code",
   "execution_count": 2,
   "metadata": {},
   "outputs": [],
   "source": [
    "dbf = open(\"cd_id_db.txt\")\n",
    "lines = [l.strip() for l in dbf.readlines()]\n",
    "rows = [l.split(\"\\t\") for l in lines]\n",
    "db = {r[3]: r[0] for r in rows}\n",
    "db_rev = {r[0]: r[3] for r in rows}"
   ]
  },
  {
   "cell_type": "code",
   "execution_count": 3,
   "metadata": {},
   "outputs": [],
   "source": [
    "from libgraftj import write_xlsx_file\n",
    "write_xlsx_file('GraftJ_Output.xlsx', data, db, db_rev)"
   ]
  },
  {
   "cell_type": "code",
   "execution_count": null,
   "metadata": {},
   "outputs": [],
   "source": []
  }
 ],
 "metadata": {
  "kernelspec": {
   "display_name": "Python 3.8.9 64-bit",
   "language": "python",
   "name": "python3"
  },
  "language_info": {
   "codemirror_mode": {
    "name": "ipython",
    "version": 3
   },
   "file_extension": ".py",
   "mimetype": "text/x-python",
   "name": "python",
   "nbconvert_exporter": "python",
   "pygments_lexer": "ipython3",
   "version": "3.8.9"
  },
  "orig_nbformat": 4,
  "vscode": {
   "interpreter": {
    "hash": "31f2aee4e71d21fbe5cf8b01ff0e069b9275f58929596ceb00d14d90e3e16cd6"
   }
  }
 },
 "nbformat": 4,
 "nbformat_minor": 2
}
